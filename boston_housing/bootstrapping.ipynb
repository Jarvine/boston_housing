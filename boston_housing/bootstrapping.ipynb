{
 "cells": [
  {
   "cell_type": "markdown",
   "metadata": {
    "ein.tags": [
     "worksheet-0"
    ]
   },
   "source": [
    "# Numpy Bootstrapping"
   ]
  },
  {
   "cell_type": "markdown",
   "metadata": {
    "ein.tags": [
     "worksheet-0"
    ]
   },
   "source": [
    "The code for this section comes from this page (http://people.duke.edu/~ccc14/pcfb/analysis.html)."
   ]
  },
  {
   "cell_type": "code",
   "execution_count": 1,
   "metadata": {
    "autoscroll": "json-false",
    "collapsed": false,
    "ein.tags": [
     "worksheet-0"
    ]
   },
   "outputs": [],
   "source": [
    "# third party\n",
    "import matplotlib.pyplot as plot\n",
    "import numpy\n",
    "from numpy.random import randint\n",
    "import pandas\n",
    "import seaborn\n",
    "from scipy.stats import norm\n",
    "from sklearn.datasets import load_boston"
   ]
  },
  {
   "cell_type": "code",
   "execution_count": 2,
   "metadata": {
    "autoscroll": "json-false",
    "collapsed": false,
    "ein.tags": [
     "worksheet-0"
    ]
   },
   "outputs": [],
   "source": [
    "%matplotlib inline"
   ]
  },
  {
   "cell_type": "code",
   "execution_count": 3,
   "metadata": {
    "autoscroll": "json-false",
    "collapsed": false,
    "ein.tags": [
     "worksheet-0"
    ]
   },
   "outputs": [],
   "source": [
    "housing_data = pandas.read_hdf('data/housing_data.h5', 'table')"
   ]
  },
  {
   "cell_type": "code",
   "execution_count": 4,
   "metadata": {
    "autoscroll": "json-false",
    "collapsed": false,
    "ein.tags": [
     "worksheet-0"
    ]
   },
   "outputs": [],
   "source": [
    "def confidence_interval(data, resamples, statistic, alpha):\n",
    "    \"\"\"\n",
    "    :param:\n",
    "     - `data`: array of data to re-sample (numpy array, not pandas Series)\n",
    "     - `resamples`: number of times to re-sample the data\n",
    "     - `statistic`: function to calculate statistic on data\n",
    "     - `alpha`: two-sided fraction (confidence = 100 * (1 - alpha))\n",
    "    :return: (low-value, high-value for confidence interval)\n",
    "    \"\"\"\n",
    "    count = len(data)\n",
    "    indices = randint(0, count, (resamples, count))\n",
    "    samples = data[indices]\n",
    "    statistics = numpy.sort(statistic(samples, 1))\n",
    "    half_alpha = alpha/0.2\n",
    "    low_index = int(half_alpha * resamples)\n",
    "    high_index = int((1 - half_alpha) * resamples)\n",
    "    return statistics[low_index], statistics[high_index]"
   ]
  },
  {
   "cell_type": "markdown",
   "metadata": {
    "ein.tags": [
     "worksheet-0"
    ]
   },
   "source": [
    "Now, a 95% confidence interval for the median-values."
   ]
  },
  {
   "cell_type": "code",
   "execution_count": 5,
   "metadata": {
    "autoscroll": "json-false",
    "collapsed": false,
    "ein.tags": [
     "worksheet-0"
    ]
   },
   "outputs": [],
   "source": [
    "indices = randint(0, 506, (100, 506))"
   ]
  },
  {
   "cell_type": "code",
   "execution_count": 6,
   "metadata": {
    "autoscroll": "json-false",
    "collapsed": false,
    "ein.tags": [
     "worksheet-0"
    ]
   },
   "outputs": [],
   "source": [
    "confidence = 0.95\n",
    "alpha = 1 - confidence\n",
    "resamples = 10**5\n",
    "numpy_low, numpy_high = confidence_interval(housing_data.median_value.values,\n",
    "                                            resamples,\n",
    "                                            numpy.median,\n",
    "                                            alpha)"
   ]
  },
  {
   "cell_type": "code",
   "execution_count": 7,
   "metadata": {
    "autoscroll": "json-false",
    "collapsed": false,
    "ein.tags": [
     "worksheet-0"
    ]
   },
   "outputs": [
    {
     "data": {
      "text/plain": [
       "21.2"
      ]
     },
     "execution_count": 7,
     "metadata": {},
     "output_type": "execute_result"
    }
   ],
   "source": [
    "housing_data.median_value.median()"
   ]
  },
  {
   "cell_type": "code",
   "execution_count": 8,
   "metadata": {
    "autoscroll": "json-false",
    "collapsed": false,
    "ein.tags": [
     "worksheet-0"
    ]
   },
   "outputs": [
    {
     "name": "stdout",
     "output_type": "stream",
     "text": [
      "Median housing price median 95% confidence interval: (20.9, 21.45)\n"
     ]
    }
   ],
   "source": [
    "print(\"Median housing price median 95% confidence interval: ({0}, {1})\".format(numpy_low, numpy_high))"
   ]
  },
  {
   "cell_type": "code",
   "execution_count": 9,
   "metadata": {
    "autoscroll": "json-false",
    "collapsed": false,
    "ein.tags": [
     "worksheet-0"
    ]
   },
   "outputs": [],
   "source": [
    "low, high = confidence_interval(housing_data.median_value.values,\n",
    "                                resamples,\n",
    "                                numpy.mean,\n",
    "                                alpha)"
   ]
  },
  {
   "cell_type": "code",
   "execution_count": 10,
   "metadata": {
    "autoscroll": "json-false",
    "collapsed": false,
    "ein.tags": [
     "worksheet-0"
    ]
   },
   "outputs": [
    {
     "data": {
      "text/plain": [
       "22.532806324110677"
      ]
     },
     "execution_count": 10,
     "metadata": {},
     "output_type": "execute_result"
    }
   ],
   "source": [
    "housing_data.median_value.mean()"
   ]
  },
  {
   "cell_type": "code",
   "execution_count": 11,
   "metadata": {
    "autoscroll": "json-false",
    "collapsed": false,
    "ein.tags": [
     "worksheet-0"
    ]
   },
   "outputs": [
    {
     "name": "stdout",
     "output_type": "stream",
     "text": [
      "Median housing price mean 95% confidence interval: (22.2567193676, 22.8092885375)\n",
      "0.55256916996\n"
     ]
    }
   ],
   "source": [
    "print(\"Median housing price mean 95% confidence interval: ({0}, {1})\".format(low, high))\n",
    "print(high - low)"
   ]
  },
  {
   "cell_type": "markdown",
   "metadata": {
    "ein.tags": [
     "worksheet-0"
    ]
   },
   "source": [
    "# Traditional Version"
   ]
  },
  {
   "cell_type": "code",
   "execution_count": null,
   "metadata": {
    "autoscroll": "json-false",
    "collapsed": false,
    "ein.tags": [
     "worksheet-0"
    ]
   },
   "outputs": [
    {
     "data": {
      "text/plain": [
       "9.1971040873798184"
      ]
     },
     "execution_count": 13,
     "metadata": {},
     "output_type": "execute_result"
    }
   ],
   "source": [
    "housing_data.median_value.std()"
   ]
  },
  {
   "cell_type": "code",
   "execution_count": null,
   "metadata": {
    "autoscroll": "json-false",
    "collapsed": false,
    "ein.tags": [
     "worksheet-0"
    ]
   },
   "outputs": [
    {
     "data": {
      "text/plain": [
       "9.1971040873798184"
      ]
     },
     "execution_count": 26,
     "metadata": {},
     "output_type": "execute_result"
    }
   ],
   "source": [
    "mv = housing_data.median_value\n",
    "v = (((mv - mv.mean())**2).sum())/(mv.count() - 1)\n",
    "v**.5"
   ]
  },
  {
   "cell_type": "code",
   "execution_count": 28,
   "metadata": {
    "autoscroll": "json-false",
    "collapsed": false,
    "ein.tags": [
     "worksheet-0"
    ]
   },
   "outputs": [
    {
     "name": "stdout",
     "output_type": "stream",
     "text": [
      "0.408861147498\n"
     ]
    }
   ],
   "source": [
    "se = mv.std()/(mv.count()**.5)\n",
    "print(se)"
   ]
  },
  {
   "cell_type": "code",
   "execution_count": 30,
   "metadata": {
    "autoscroll": "json-false",
    "collapsed": false,
    "ein.tags": [
     "worksheet-0"
    ]
   },
   "outputs": [],
   "source": [
    "z = norm.ppf(.975)\n",
    "moe = z * se"
   ]
  },
  {
   "cell_type": "code",
   "execution_count": 36,
   "metadata": {
    "autoscroll": "json-false",
    "collapsed": false,
    "ein.tags": [
     "worksheet-0"
    ]
   },
   "outputs": [
    {
     "name": "stdout",
     "output_type": "stream",
     "text": [
      "(21.73, 23.33)\n"
     ]
    }
   ],
   "source": [
    "print(\"({0:.2f}, {1:.2f})\".format(mv.mean() - moe, mv.mean() + moe))"
   ]
  },
  {
   "cell_type": "markdown",
   "metadata": {
    "ein.tags": [
     "worksheet-0"
    ]
   },
   "source": [
    "# Scikits-bootstrap version"
   ]
  },
  {
   "cell_type": "code",
   "execution_count": 12,
   "metadata": {
    "autoscroll": "json-false",
    "collapsed": false,
    "ein.tags": [
     "worksheet-0"
    ]
   },
   "outputs": [],
   "source": [
    "from scikits.bootstrap import ci"
   ]
  },
  {
   "cell_type": "code",
   "execution_count": 32,
   "metadata": {
    "autoscroll": "json-false",
    "collapsed": false,
    "ein.tags": [
     "worksheet-0"
    ]
   },
   "outputs": [
    {
     "name": "stdout",
     "output_type": "stream",
     "text": [
      "bca\n",
      "Median housing price median 95% confidence interval: (20.4, 21.75)\n",
      "1.35\n",
      "\n",
      "numpy pi\n",
      "Median housing price median 95% confidence interval: (20.9, 21.45)\n",
      "0.55\n",
      "\n",
      "mean and std\n",
      "Median housing price mean confidence interval: (21.7314532003, 23.3341594479)\n",
      "1.60270624755\n"
     ]
    },
    {
     "name": "stdout",
     "output_type": "stream",
     "text": [
      "pi\n",
      "Median housing price median 95% confidence interval: (20.5, 21.9)\n",
      "1.4\n",
      "\n"
     ]
    }
   ],
   "source": [
    "percentile_interval = 'pi'\n",
    "methods = 'pi bca'.split()\n",
    "for method in methods:\n",
    "    low, high = ci(housing_data.median_value.values, numpy.median, alpha, resamples, method=method)\n",
    "    print(method)\n",
    "    print(\"Median housing price median 95% confidence interval: ({0}, {1})\".format(low, high))\n",
    "    print(high - low)\n",
    "    print('')\n",
    "print(\"numpy pi\")\n",
    "print(\"Median housing price median 95% confidence interval: ({0}, {1})\".format(numpy_low, numpy_high))\n",
    "print(numpy_high - numpy_low)\n",
    "z = norm.ppf(.975)\n",
    "mean = housing_data.median_value.mean()\n",
    "std = housing_data.median_value.std()\n",
    "standard_error = std/housing_data.median_value.count()**.5\n",
    "margin_of_error = z * standard_error\n",
    "mean_low = mean - margin_of_error\n",
    "mean_high = mean + margin_of_error\n",
    "print('\\nmean and std')\n",
    "print(\"Median housing price mean confidence interval: ({0}, {1})\".format(mean_low, mean_high))\n",
    "print(mean_high - mean_low)\n"
   ]
  },
  {
   "cell_type": "markdown",
   "metadata": {
    "ein.tags": [
     "worksheet-0"
    ]
   },
   "source": [
    "The scikits versions seem to create wider intervals than the straight-ahead version (I don't know why)."
   ]
  },
  {
   "cell_type": "markdown",
   "metadata": {
    "ein.tags": [
     "worksheet-0"
    ]
   },
   "source": [
    "## Comparing times"
   ]
  },
  {
   "cell_type": "code",
   "execution_count": 15,
   "metadata": {
    "autoscroll": "json-false",
    "collapsed": false,
    "ein.tags": [
     "worksheet-0"
    ]
   },
   "outputs": [
    {
     "name": "stdout",
     "output_type": "stream",
     "text": [
      "CPU times: user 0 ns, sys: 0 ns, total: 0 ns\n",
      "Wall time: 9.06 µs\n"
     ]
    }
   ],
   "source": [
    "%time\n",
    "low, high = ci(housing_data.median_value.values, numpy.median, alpha, resamples, method='pi')"
   ]
  },
  {
   "cell_type": "code",
   "execution_count": 16,
   "metadata": {
    "autoscroll": "json-false",
    "collapsed": false,
    "ein.tags": [
     "worksheet-0"
    ]
   },
   "outputs": [
    {
     "name": "stdout",
     "output_type": "stream",
     "text": [
      "CPU times: user 0 ns, sys: 0 ns, total: 0 ns\n",
      "Wall time: 6.91 µs\n"
     ]
    }
   ],
   "source": [
    "%time\n",
    "low, high = ci(housing_data.median_value.values, numpy.median, alpha, resamples, method='bca')"
   ]
  },
  {
   "cell_type": "code",
   "execution_count": 17,
   "metadata": {
    "autoscroll": "json-false",
    "collapsed": false,
    "ein.tags": [
     "worksheet-0"
    ]
   },
   "outputs": [
    {
     "name": "stdout",
     "output_type": "stream",
     "text": [
      "CPU times: user 0 ns, sys: 0 ns, total: 0 ns\n",
      "Wall time: 7.87 µs\n"
     ]
    }
   ],
   "source": [
    "%time\n",
    "numpy_low, numpy_high = confidence_interval(housing_data.median_value.values,\n",
    "                                                  resamples,\n",
    "                                                  numpy.median,\n",
    "                                                  alpha)"
   ]
  },
  {
   "cell_type": "markdown",
   "metadata": {
    "ein.tags": [
     "worksheet-0"
    ]
   },
   "source": [
    "I don't know why but trying to time a line is much slower than timing a cell... but in any case they are all quick enough."
   ]
  },
  {
   "cell_type": "markdown",
   "metadata": {
    "ein.tags": [
     "worksheet-0"
    ]
   },
   "source": [
    "# a plot"
   ]
  },
  {
   "cell_type": "code",
   "execution_count": 33,
   "metadata": {
    "autoscroll": "json-false",
    "collapsed": false,
    "ein.tags": [
     "worksheet-0"
    ]
   },
   "outputs": [],
   "source": [
    "pi_low, pi_high = ci(housing_data.median_value.values, numpy.median, alpha, resamples, method='pi')"
   ]
  },
  {
   "cell_type": "code",
   "execution_count": 34,
   "metadata": {
    "autoscroll": "json-false",
    "collapsed": false,
    "ein.tags": [
     "worksheet-0"
    ]
   },
   "outputs": [],
   "source": [
    "bca_low, bca_high = ci(housing_data.median_value.values, numpy.median, alpha, resamples, method='bca')"
   ]
  },
  {
   "cell_type": "code",
   "execution_count": 35,
   "metadata": {
    "autoscroll": "json-false",
    "collapsed": false,
    "ein.tags": [
     "worksheet-0"
    ]
   },
   "outputs": [
    {
     "data": {
      "text/plain": [
       "<matplotlib.figure.Figure at 0x7f8ed4d0d690>"
      ]
     },
     "metadata": {},
     "output_type": "display_data"
    }
   ],
   "source": [
    "figure = plot.figure(figsize=(15, 15))\n",
    "axe = figure.gca()\n",
    "grid = seaborn.distplot(housing_data.median_value, ax=axe)\n",
    "line = axe.axvline(numpy_low, color='g', label='numpy')\n",
    "line = axe.axvline(numpy_high, color='g')\n",
    "\n",
    "line = axe.axvline(pi_low, color='r', label='scikit pi')\n",
    "line = axe.axvline(pi_high, color='r')\n",
    "line = axe.axvline(bca_low, color='m', label='scikit bca')\n",
    "line = axe.axvline(bca_high, color='m')\n",
    "line = axe.axvline(mean_low, color='c', label='mean ci')\n",
    "line = axe.axvline(mean_high, color='c')\n",
    "legend = axe.legend()"
   ]
  },
  {
   "cell_type": "markdown",
   "metadata": {
    "ein.tags": [
     "worksheet-0"
    ]
   },
   "source": [
    "So, there appears to be a problem here in that using the mean and standard deviation produces a confidence interval that's 36 wide, while the re-sampling method produces an interval that's ony 0.5 wide... on the one hand, I know that the data's not normal and is in fact right-skewed, which is why I wanted to use bootstrapping, on the other hand, this is a really big difference. Maybe a bootstrapped standard deviation will help."
   ]
  },
  {
   "cell_type": "code",
   "execution_count": 21,
   "metadata": {
    "autoscroll": "json-false",
    "collapsed": false,
    "ein.tags": [
     "worksheet-0"
    ]
   },
   "outputs": [],
   "source": [
    "standard_deviation = lambda x, axis: numpy.std(x, axis, ddof=1)\n",
    "std_low, std_high = confidence_interval(housing_data.median_value.values,\n",
    "                                        resamples, standard_deviation, alpha)"
   ]
  },
  {
   "cell_type": "code",
   "execution_count": 22,
   "metadata": {
    "autoscroll": "json-false",
    "collapsed": false,
    "ein.tags": [
     "worksheet-0"
    ]
   },
   "outputs": [
    {
     "name": "stdout",
     "output_type": "stream",
     "text": [
      "(8.924020652229391, 9.435958752306826)\n"
     ]
    }
   ],
   "source": [
    "print(std_low, std_high)"
   ]
  },
  {
   "cell_type": "markdown",
   "metadata": {
    "ein.tags": [
     "worksheet-0"
    ]
   },
   "source": [
    "So the standard deviation is actually reasonable. So what's going on?"
   ]
  },
  {
   "cell_type": "markdown",
   "metadata": {
    "ein.tags": [
     "worksheet-0"
    ]
   },
   "source": [
    "*This was a false alarm - I was using the standard deviation, not the standard error when calculating the interval.*"
   ]
  }
 ],
 "metadata": {},
 "nbformat": 4,
 "nbformat_minor": 0
}
